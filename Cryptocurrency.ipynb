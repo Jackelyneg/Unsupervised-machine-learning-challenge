{
 "cells": [
  {
   "cell_type": "code",
   "execution_count": 1,
   "metadata": {},
   "outputs": [],
   "source": [
    "import pandas as pd\n",
    "from sklearn.preprocessing import StandardScaler\n",
    "from sklearn.manifold import TSNE\n",
    "from sklearn.decomposition import PCA\n",
    "from sklearn.cluster import KMeans\n",
    "import matplotlib.pyplot as plt"
   ]
  },
  {
   "cell_type": "code",
   "execution_count": 2,
   "metadata": {},
   "outputs": [],
   "source": [
    "df = pd.read_csv('crypto_data.csv')"
   ]
  },
  {
   "cell_type": "code",
   "execution_count": 3,
   "metadata": {},
   "outputs": [],
   "source": [
    "df =df[(df['IsTrading']==True)]"
   ]
  },
  {
   "cell_type": "code",
   "execution_count": 4,
   "metadata": {},
   "outputs": [],
   "source": [
    "df = df[(df['TotalCoinsMined']>0)]"
   ]
  },
  {
   "cell_type": "code",
   "execution_count": 5,
   "metadata": {},
   "outputs": [],
   "source": [
    "del df['IsTrading']"
   ]
  },
  {
   "cell_type": "code",
   "execution_count": 6,
   "metadata": {},
   "outputs": [],
   "source": [
    "del df['Unnamed: 0']"
   ]
  },
  {
   "cell_type": "code",
   "execution_count": 7,
   "metadata": {},
   "outputs": [],
   "source": [
    "coin_name = df.groupby(df['CoinName'])"
   ]
  },
  {
   "cell_type": "code",
   "execution_count": 15,
   "metadata": {},
   "outputs": [],
   "source": [
    "del df['CoinName']"
   ]
  },
  {
   "cell_type": "code",
   "execution_count": 16,
   "metadata": {},
   "outputs": [
    {
     "data": {
      "text/html": [
       "<div>\n",
       "<style scoped>\n",
       "    .dataframe tbody tr th:only-of-type {\n",
       "        vertical-align: middle;\n",
       "    }\n",
       "\n",
       "    .dataframe tbody tr th {\n",
       "        vertical-align: top;\n",
       "    }\n",
       "\n",
       "    .dataframe thead th {\n",
       "        text-align: right;\n",
       "    }\n",
       "</style>\n",
       "<table border=\"1\" class=\"dataframe\">\n",
       "  <thead>\n",
       "    <tr style=\"text-align: right;\">\n",
       "      <th></th>\n",
       "      <th>Algorithm</th>\n",
       "      <th>ProofType</th>\n",
       "      <th>TotalCoinsMined</th>\n",
       "      <th>TotalCoinSupply</th>\n",
       "    </tr>\n",
       "  </thead>\n",
       "  <tbody>\n",
       "    <tr>\n",
       "      <td>0</td>\n",
       "      <td>Scrypt</td>\n",
       "      <td>PoW/PoS</td>\n",
       "      <td>4.199995e+01</td>\n",
       "      <td>42</td>\n",
       "    </tr>\n",
       "    <tr>\n",
       "      <td>2</td>\n",
       "      <td>Scrypt</td>\n",
       "      <td>PoW/PoS</td>\n",
       "      <td>1.055185e+09</td>\n",
       "      <td>532000000</td>\n",
       "    </tr>\n",
       "    <tr>\n",
       "      <td>5</td>\n",
       "      <td>X13</td>\n",
       "      <td>PoW/PoS</td>\n",
       "      <td>2.927942e+10</td>\n",
       "      <td>314159265359</td>\n",
       "    </tr>\n",
       "    <tr>\n",
       "      <td>7</td>\n",
       "      <td>SHA-256</td>\n",
       "      <td>PoW</td>\n",
       "      <td>1.792718e+07</td>\n",
       "      <td>21000000</td>\n",
       "    </tr>\n",
       "    <tr>\n",
       "      <td>8</td>\n",
       "      <td>Ethash</td>\n",
       "      <td>PoW</td>\n",
       "      <td>1.076842e+08</td>\n",
       "      <td>0</td>\n",
       "    </tr>\n",
       "    <tr>\n",
       "      <td>...</td>\n",
       "      <td>...</td>\n",
       "      <td>...</td>\n",
       "      <td>...</td>\n",
       "      <td>...</td>\n",
       "    </tr>\n",
       "    <tr>\n",
       "      <td>1238</td>\n",
       "      <td>SHA-256</td>\n",
       "      <td>DPoS</td>\n",
       "      <td>2.000000e+09</td>\n",
       "      <td>2000000000</td>\n",
       "    </tr>\n",
       "    <tr>\n",
       "      <td>1242</td>\n",
       "      <td>Scrypt</td>\n",
       "      <td>PoW/PoS</td>\n",
       "      <td>1.493105e+07</td>\n",
       "      <td>250000000</td>\n",
       "    </tr>\n",
       "    <tr>\n",
       "      <td>1245</td>\n",
       "      <td>CryptoNight</td>\n",
       "      <td>PoW</td>\n",
       "      <td>9.802226e+08</td>\n",
       "      <td>1400222610</td>\n",
       "    </tr>\n",
       "    <tr>\n",
       "      <td>1246</td>\n",
       "      <td>Equihash</td>\n",
       "      <td>PoW</td>\n",
       "      <td>7.296538e+06</td>\n",
       "      <td>21000000</td>\n",
       "    </tr>\n",
       "    <tr>\n",
       "      <td>1247</td>\n",
       "      <td>Scrypt</td>\n",
       "      <td>PoS</td>\n",
       "      <td>1.283270e+05</td>\n",
       "      <td>1000000</td>\n",
       "    </tr>\n",
       "  </tbody>\n",
       "</table>\n",
       "<p>532 rows × 4 columns</p>\n",
       "</div>"
      ],
      "text/plain": [
       "        Algorithm ProofType  TotalCoinsMined TotalCoinSupply\n",
       "0          Scrypt   PoW/PoS     4.199995e+01              42\n",
       "2          Scrypt   PoW/PoS     1.055185e+09       532000000\n",
       "5             X13   PoW/PoS     2.927942e+10    314159265359\n",
       "7         SHA-256       PoW     1.792718e+07        21000000\n",
       "8          Ethash       PoW     1.076842e+08               0\n",
       "...           ...       ...              ...             ...\n",
       "1238      SHA-256      DPoS     2.000000e+09      2000000000\n",
       "1242       Scrypt   PoW/PoS     1.493105e+07       250000000\n",
       "1245  CryptoNight       PoW     9.802226e+08      1400222610\n",
       "1246     Equihash       PoW     7.296538e+06        21000000\n",
       "1247       Scrypt       PoS     1.283270e+05         1000000\n",
       "\n",
       "[532 rows x 4 columns]"
      ]
     },
     "execution_count": 16,
     "metadata": {},
     "output_type": "execute_result"
    }
   ],
   "source": [
    "df.dropna()"
   ]
  },
  {
   "cell_type": "code",
   "execution_count": 17,
   "metadata": {},
   "outputs": [],
   "source": [
    "df =pd.get_dummies(df,columns = ['ProofType','Algorithm'])"
   ]
  },
  {
   "cell_type": "code",
   "execution_count": 18,
   "metadata": {},
   "outputs": [],
   "source": [
    "# Scale the data\n",
    "df_scaled = StandardScaler().fit_transform(df)"
   ]
  },
  {
   "cell_type": "code",
   "execution_count": 36,
   "metadata": {},
   "outputs": [],
   "source": [
    "pca = PCA(n_components=0.9)\n",
    "df_pca = pca.fit_transform(df_scaled)"
   ]
  },
  {
   "cell_type": "code",
   "execution_count": 37,
   "metadata": {},
   "outputs": [],
   "source": [
    "# Run t-SNE\n",
    "tsne = TSNE()\n",
    "tsne_features = tsne.fit_transform(df_pca)"
   ]
  },
  {
   "cell_type": "code",
   "execution_count": 38,
   "metadata": {},
   "outputs": [
    {
     "data": {
      "image/png": "[encoded data removed]",
      "text/plain": [
       "<Figure size 432x288 with 1 Axes>"
      ]
     },
     "metadata": {
      "needs_background": "light"
     },
     "output_type": "display_data"
    }
   ],
   "source": [
    "plt.scatter(tsne_features[:,0], tsne_features[:,1])\n",
    "plt.show()"
   ]
  },
  {
   "cell_type": "code",
   "execution_count": 39,
   "metadata": {},
   "outputs": [
    {
     "data": {
      "text/html": [
       "<div>\n",
       "<style scoped>\n",
       "    .dataframe tbody tr th:only-of-type {\n",
       "        vertical-align: middle;\n",
       "    }\n",
       "\n",
       "    .dataframe tbody tr th {\n",
       "        vertical-align: top;\n",
       "    }\n",
       "\n",
       "    .dataframe thead th {\n",
       "        text-align: right;\n",
       "    }\n",
       "</style>\n",
       "<table border=\"1\" class=\"dataframe\">\n",
       "  <thead>\n",
       "    <tr style=\"text-align: right;\">\n",
       "      <th></th>\n",
       "      <th>0</th>\n",
       "      <th>1</th>\n",
       "      <th>2</th>\n",
       "      <th>3</th>\n",
       "      <th>4</th>\n",
       "      <th>5</th>\n",
       "      <th>6</th>\n",
       "      <th>7</th>\n",
       "      <th>8</th>\n",
       "      <th>9</th>\n",
       "      <th>...</th>\n",
       "      <th>64</th>\n",
       "      <th>65</th>\n",
       "      <th>66</th>\n",
       "      <th>67</th>\n",
       "      <th>68</th>\n",
       "      <th>69</th>\n",
       "      <th>70</th>\n",
       "      <th>71</th>\n",
       "      <th>72</th>\n",
       "      <th>73</th>\n",
       "    </tr>\n",
       "  </thead>\n",
       "  <tbody>\n",
       "    <tr>\n",
       "      <td>0</td>\n",
       "      <td>-0.335099</td>\n",
       "      <td>1.032189</td>\n",
       "      <td>-0.590713</td>\n",
       "      <td>0.001397</td>\n",
       "      <td>-1.070224e-11</td>\n",
       "      <td>4.488298e-14</td>\n",
       "      <td>-2.054929e-14</td>\n",
       "      <td>-0.007129</td>\n",
       "      <td>-1.319756</td>\n",
       "      <td>-0.051813</td>\n",
       "      <td>...</td>\n",
       "      <td>3.488457e-15</td>\n",
       "      <td>2.621929e-15</td>\n",
       "      <td>5.866344e-16</td>\n",
       "      <td>-1.112322e-15</td>\n",
       "      <td>7.537301e-16</td>\n",
       "      <td>-1.620960e-15</td>\n",
       "      <td>3.274752e-15</td>\n",
       "      <td>1.144039e-16</td>\n",
       "      <td>9.504354e-16</td>\n",
       "      <td>-3.536868e-15</td>\n",
       "    </tr>\n",
       "    <tr>\n",
       "      <td>1</td>\n",
       "      <td>-0.318434</td>\n",
       "      <td>1.032331</td>\n",
       "      <td>-0.591126</td>\n",
       "      <td>0.001386</td>\n",
       "      <td>-1.061483e-11</td>\n",
       "      <td>4.344957e-14</td>\n",
       "      <td>-1.671674e-14</td>\n",
       "      <td>-0.007739</td>\n",
       "      <td>-1.322514</td>\n",
       "      <td>-0.056674</td>\n",
       "      <td>...</td>\n",
       "      <td>5.523532e-15</td>\n",
       "      <td>2.211056e-15</td>\n",
       "      <td>6.117937e-16</td>\n",
       "      <td>-8.889500e-16</td>\n",
       "      <td>1.144871e-15</td>\n",
       "      <td>-1.435342e-15</td>\n",
       "      <td>3.164249e-15</td>\n",
       "      <td>6.555669e-16</td>\n",
       "      <td>1.459115e-16</td>\n",
       "      <td>-4.094510e-15</td>\n",
       "    </tr>\n",
       "    <tr>\n",
       "      <td>2</td>\n",
       "      <td>2.305468</td>\n",
       "      <td>1.656383</td>\n",
       "      <td>-0.683617</td>\n",
       "      <td>0.004731</td>\n",
       "      <td>-3.640702e-11</td>\n",
       "      <td>6.491291e-14</td>\n",
       "      <td>-9.741459e-15</td>\n",
       "      <td>-0.054781</td>\n",
       "      <td>-1.542879</td>\n",
       "      <td>-0.943951</td>\n",
       "      <td>...</td>\n",
       "      <td>-6.265196e-14</td>\n",
       "      <td>2.966623e-14</td>\n",
       "      <td>-5.303892e-14</td>\n",
       "      <td>-1.174297e-14</td>\n",
       "      <td>-4.018956e-14</td>\n",
       "      <td>-3.025034e-15</td>\n",
       "      <td>-4.280833e-14</td>\n",
       "      <td>1.553694e-14</td>\n",
       "      <td>2.327407e-14</td>\n",
       "      <td>1.448830e-14</td>\n",
       "    </tr>\n",
       "    <tr>\n",
       "      <td>3</td>\n",
       "      <td>-0.145184</td>\n",
       "      <td>-1.320593</td>\n",
       "      <td>0.192813</td>\n",
       "      <td>-0.001229</td>\n",
       "      <td>9.447908e-12</td>\n",
       "      <td>-1.476217e-14</td>\n",
       "      <td>8.066939e-15</td>\n",
       "      <td>-0.002071</td>\n",
       "      <td>0.281463</td>\n",
       "      <td>0.251862</td>\n",
       "      <td>...</td>\n",
       "      <td>-9.353504e-15</td>\n",
       "      <td>-2.931282e-16</td>\n",
       "      <td>-2.012114e-14</td>\n",
       "      <td>-8.046215e-15</td>\n",
       "      <td>-4.907227e-15</td>\n",
       "      <td>2.335433e-15</td>\n",
       "      <td>-1.744985e-14</td>\n",
       "      <td>2.109496e-15</td>\n",
       "      <td>1.299057e-15</td>\n",
       "      <td>3.133353e-15</td>\n",
       "    </tr>\n",
       "    <tr>\n",
       "      <td>4</td>\n",
       "      <td>-0.151768</td>\n",
       "      <td>-2.036192</td>\n",
       "      <td>0.396182</td>\n",
       "      <td>-0.001705</td>\n",
       "      <td>1.310295e-11</td>\n",
       "      <td>-3.617756e-14</td>\n",
       "      <td>1.161706e-14</td>\n",
       "      <td>0.027735</td>\n",
       "      <td>0.519099</td>\n",
       "      <td>0.188820</td>\n",
       "      <td>...</td>\n",
       "      <td>-3.731962e-15</td>\n",
       "      <td>-8.971445e-14</td>\n",
       "      <td>-1.733647e-13</td>\n",
       "      <td>-2.301553e-14</td>\n",
       "      <td>3.489553e-14</td>\n",
       "      <td>-2.181606e-14</td>\n",
       "      <td>-9.467575e-14</td>\n",
       "      <td>3.582664e-14</td>\n",
       "      <td>6.648660e-14</td>\n",
       "      <td>1.494847e-14</td>\n",
       "    </tr>\n",
       "  </tbody>\n",
       "</table>\n",
       "<p>5 rows × 74 columns</p>\n",
       "</div>"
      ],
      "text/plain": [
       "         0         1         2         3             4             5   \\\n",
       "0 -0.335099  1.032189 -0.590713  0.001397 -1.070224e-11  4.488298e-14   \n",
       "1 -0.318434  1.032331 -0.591126  0.001386 -1.061483e-11  4.344957e-14   \n",
       "2  2.305468  1.656383 -0.683617  0.004731 -3.640702e-11  6.491291e-14   \n",
       "3 -0.145184 -1.320593  0.192813 -0.001229  9.447908e-12 -1.476217e-14   \n",
       "4 -0.151768 -2.036192  0.396182 -0.001705  1.310295e-11 -3.617756e-14   \n",
       "\n",
       "             6         7         8         9   ...            64  \\\n",
       "0 -2.054929e-14 -0.007129 -1.319756 -0.051813  ...  3.488457e-15   \n",
       "1 -1.671674e-14 -0.007739 -1.322514 -0.056674  ...  5.523532e-15   \n",
       "2 -9.741459e-15 -0.054781 -1.542879 -0.943951  ... -6.265196e-14   \n",
       "3  8.066939e-15 -0.002071  0.281463  0.251862  ... -9.353504e-15   \n",
       "4  1.161706e-14  0.027735  0.519099  0.188820  ... -3.731962e-15   \n",
       "\n",
       "             65            66            67            68            69  \\\n",
       "0  2.621929e-15  5.866344e-16 -1.112322e-15  7.537301e-16 -1.620960e-15   \n",
       "1  2.211056e-15  6.117937e-16 -8.889500e-16  1.144871e-15 -1.435342e-15   \n",
       "2  2.966623e-14 -5.303892e-14 -1.174297e-14 -4.018956e-14 -3.025034e-15   \n",
       "3 -2.931282e-16 -2.012114e-14 -8.046215e-15 -4.907227e-15  2.335433e-15   \n",
       "4 -8.971445e-14 -1.733647e-13 -2.301553e-14  3.489553e-14 -2.181606e-14   \n",
       "\n",
       "             70            71            72            73  \n",
       "0  3.274752e-15  1.144039e-16  9.504354e-16 -3.536868e-15  \n",
       "1  3.164249e-15  6.555669e-16  1.459115e-16 -4.094510e-15  \n",
       "2 -4.280833e-14  1.553694e-14  2.327407e-14  1.448830e-14  \n",
       "3 -1.744985e-14  2.109496e-15  1.299057e-15  3.133353e-15  \n",
       "4 -9.467575e-14  3.582664e-14  6.648660e-14  1.494847e-14  \n",
       "\n",
       "[5 rows x 74 columns]"
      ]
     },
     "execution_count": 39,
     "metadata": {},
     "output_type": "execute_result"
    }
   ],
   "source": [
    "inertia = []\n",
    "k = list(range(1, 11))\n",
    "\n",
    "# Calculate the inertia for the range of k values\n",
    "for i in k:\n",
    "    km = KMeans(n_clusters=i, random_state=0)\n",
    "    km.fit(df_pca)\n",
    "    inertia.append(km.inertia_)\n",
    "\n",
    "# Create the Elbow Curve using hvPlot\n",
    "data = {\"k\": k, \"inertia\": inertia}\n",
    "df_in=pd.DataFrame(df_pca)\n",
    "df_in.head()"
   ]
  },
  {
   "cell_type": "code",
   "execution_count": 40,
   "metadata": {},
   "outputs": [
    {
     "data": {
      "image/png": "[encoded data removed]",
      "text/plain": [
       "<Figure size 432x288 with 1 Axes>"
      ]
     },
     "metadata": {
      "needs_background": "light"
     },
     "output_type": "display_data"
    }
   ],
   "source": [
    "plt.plot(data['k'], data['inertia'])\n",
    "plt.xticks(range(1,11))\n",
    "plt.xlabel('Number of clusters')\n",
    "plt.ylabel('Inertia')\n",
    "plt.title('Elbow curve for crypto data')\n",
    "plt.show()"
   ]
  },
  {
   "cell_type": "code",
   "execution_count": null,
   "metadata": {},
   "outputs": [],
   "source": [
    "#The model was unable to get any meaningful clusters\n",
    "#Recommend removing outliers and minimizing features"
   ]
  }
 ],
 "metadata": {
  "kernelspec": {
   "display_name": "Python 3",
   "language": "python",
   "name": "python3"
  },
  "language_info": {
   "codemirror_mode": {
    "name": "ipython",
    "version": 3
   },
   "file_extension": ".py",
   "mimetype": "text/x-python",
   "name": "python",
   "nbconvert_exporter": "python",
   "pygments_lexer": "ipython3",
   "version": "3.7.4"
  }
 },
 "nbformat": 4,
 "nbformat_minor": 2
}
